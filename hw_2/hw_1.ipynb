{
  "nbformat": 4,
  "nbformat_minor": 0,
  "metadata": {
    "colab": {
      "provenance": []
    },
    "kernelspec": {
      "name": "python3",
      "display_name": "Python 3"
    },
    "language_info": {
      "name": "python"
    }
  },
  "cells": [
    {
      "cell_type": "code",
      "source": [
        "class Chocolate:\n",
        "    def __init__(self, price:float, addition=''):\n",
        "      self.price = price\n",
        "      self.addition = addition\n",
        "      self.price = float(self.price)\n",
        "      if self.price<=0:\n",
        "          raise ValueError('Нерельная цена')\n",
        "    def show_my_chocolate(self):\n",
        "        if self.addition!='':\n",
        "            print(f\"Шоколадный батончик, добавка: {self.addition}\")\n",
        "        else:\n",
        "            print('Обычный шоколадный батончик')\n",
        "    def __str__(self):\n",
        "        rub = 'рубля' if self.price<5 else 'рублей'\n",
        "        return 'Шоколадный батончик, %s %s' % (self.price, rub)\n",
        "\n",
        "print('Милка')\n",
        "bar1= Chocolate(3,'фундук')\n",
        "bar1.show_my_chocolate()\n",
        "print(bar1)\n",
        "\n",
        "print('\\nAlpen Gold')\n",
        "bar2= Chocolate(12,'')\n",
        "bar2.show_my_chocolate()\n",
        "print(bar2)\n",
        "\n",
        "print('\\nRitter Sport')\n",
        "bar3= Chocolate(0,'фундук')\n",
        "bar3.show_my_chocolate()\n",
        "print(bar3)\n"
      ],
      "metadata": {
        "colab": {
          "base_uri": "https://localhost:8080/",
          "height": 488
        },
        "id": "yEJfMblS7WYz",
        "outputId": "a603cc90-d886-4c08-e817-7f247c795c1e"
      },
      "execution_count": null,
      "outputs": [
        {
          "output_type": "stream",
          "name": "stdout",
          "text": [
            "Милка\n",
            "Шоколадный батончик, добавка: фундук\n",
            "Шоколадный батончик, 3.0 рубля\n",
            "\n",
            "Alpen Gold\n",
            "Обычный шоколадный батончик\n",
            "Шоколадный батончик, 12.0 рублей\n",
            "\n",
            "Ritter Sport\n"
          ]
        },
        {
          "output_type": "error",
          "ename": "ValueError",
          "evalue": "Нерельная цена",
          "traceback": [
            "\u001b[0;31m---------------------------------------------------------------------------\u001b[0m",
            "\u001b[0;31mValueError\u001b[0m                                Traceback (most recent call last)",
            "\u001b[0;32m<ipython-input-2-5840204ab173>\u001b[0m in \u001b[0;36m<cell line: 28>\u001b[0;34m()\u001b[0m\n\u001b[1;32m     26\u001b[0m \u001b[0;34m\u001b[0m\u001b[0m\n\u001b[1;32m     27\u001b[0m \u001b[0mprint\u001b[0m\u001b[0;34m(\u001b[0m\u001b[0;34m'\\nRitter Sport'\u001b[0m\u001b[0;34m)\u001b[0m\u001b[0;34m\u001b[0m\u001b[0;34m\u001b[0m\u001b[0m\n\u001b[0;32m---> 28\u001b[0;31m \u001b[0mbar3\u001b[0m\u001b[0;34m=\u001b[0m \u001b[0mChocolate\u001b[0m\u001b[0;34m(\u001b[0m\u001b[0;36m0\u001b[0m\u001b[0;34m,\u001b[0m\u001b[0;34m'фундук'\u001b[0m\u001b[0;34m)\u001b[0m\u001b[0;34m\u001b[0m\u001b[0;34m\u001b[0m\u001b[0m\n\u001b[0m\u001b[1;32m     29\u001b[0m \u001b[0mbar3\u001b[0m\u001b[0;34m.\u001b[0m\u001b[0mshow_my_chocolate\u001b[0m\u001b[0;34m(\u001b[0m\u001b[0;34m)\u001b[0m\u001b[0;34m\u001b[0m\u001b[0;34m\u001b[0m\u001b[0m\n\u001b[1;32m     30\u001b[0m \u001b[0mprint\u001b[0m\u001b[0;34m(\u001b[0m\u001b[0mbar3\u001b[0m\u001b[0;34m)\u001b[0m\u001b[0;34m\u001b[0m\u001b[0;34m\u001b[0m\u001b[0m\n",
            "\u001b[0;32m<ipython-input-2-5840204ab173>\u001b[0m in \u001b[0;36m__init__\u001b[0;34m(self, price, addition)\u001b[0m\n\u001b[1;32m      5\u001b[0m       \u001b[0mself\u001b[0m\u001b[0;34m.\u001b[0m\u001b[0mprice\u001b[0m \u001b[0;34m=\u001b[0m \u001b[0mfloat\u001b[0m\u001b[0;34m(\u001b[0m\u001b[0mself\u001b[0m\u001b[0;34m.\u001b[0m\u001b[0mprice\u001b[0m\u001b[0;34m)\u001b[0m\u001b[0;34m\u001b[0m\u001b[0;34m\u001b[0m\u001b[0m\n\u001b[1;32m      6\u001b[0m       \u001b[0;32mif\u001b[0m \u001b[0mself\u001b[0m\u001b[0;34m.\u001b[0m\u001b[0mprice\u001b[0m\u001b[0;34m<=\u001b[0m\u001b[0;36m0\u001b[0m\u001b[0;34m:\u001b[0m\u001b[0;34m\u001b[0m\u001b[0;34m\u001b[0m\u001b[0m\n\u001b[0;32m----> 7\u001b[0;31m           \u001b[0;32mraise\u001b[0m \u001b[0mValueError\u001b[0m\u001b[0;34m(\u001b[0m\u001b[0;34m'Нерельная цена'\u001b[0m\u001b[0;34m)\u001b[0m\u001b[0;34m\u001b[0m\u001b[0;34m\u001b[0m\u001b[0m\n\u001b[0m\u001b[1;32m      8\u001b[0m     \u001b[0;32mdef\u001b[0m \u001b[0mshow_my_chocolate\u001b[0m\u001b[0;34m(\u001b[0m\u001b[0mself\u001b[0m\u001b[0;34m)\u001b[0m\u001b[0;34m:\u001b[0m\u001b[0;34m\u001b[0m\u001b[0;34m\u001b[0m\u001b[0m\n\u001b[1;32m      9\u001b[0m         \u001b[0;32mif\u001b[0m \u001b[0mself\u001b[0m\u001b[0;34m.\u001b[0m\u001b[0maddition\u001b[0m\u001b[0;34m!=\u001b[0m\u001b[0;34m''\u001b[0m\u001b[0;34m:\u001b[0m\u001b[0;34m\u001b[0m\u001b[0;34m\u001b[0m\u001b[0m\n",
            "\u001b[0;31mValueError\u001b[0m: Нерельная цена"
          ]
        }
      ]
    }
  ]
}